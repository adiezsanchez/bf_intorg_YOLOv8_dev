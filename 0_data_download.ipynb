{
 "cells": [
  {
   "cell_type": "code",
   "execution_count": 1,
   "metadata": {},
   "outputs": [
    {
     "name": "stderr",
     "output_type": "stream",
     "text": [
      "Downloading temp_zip_parts\\part_1.zip: 100%|██████████| 168M/168M [00:01<00:00, 107MiB/s] \n"
     ]
    },
    {
     "name": "stdout",
     "output_type": "stream",
     "text": [
      "MD5 hash of temp_zip_parts\\part_1.zip: dde7538f693682c84d4d2916069cdfcf\n",
      "Extracting temp_zip_parts\\part_1.zip...\n",
      "temp_zip_parts\\part_1.zip extracted.\n",
      "All files downloaded, extracted, and cleaned up.\n"
     ]
    }
   ],
   "source": [
    "from tqdm import tqdm\n",
    "import requests\n",
    "import zipfile\n",
    "import os\n",
    "import time\n",
    "import hashlib\n",
    "\n",
    "# Example list of presigned URLs for multipart ZIP files\n",
    "presigned_urls = ['https://brage.it.ntnu.no/mhbucket/CMIC/raw_data/bf_intorg_YOLOv8_dev.zip?AWSAccessKeyId=AKIA8E210FD3550BED0D&Signature=6Rxt%2FIYIAB%2BE2RaZvx86b93CO6A%3D&Expires=1740584919']\n",
    "\n",
    "def download_and_extract_file(url, filename, retries=5, backoff_factor=1.0):\n",
    "    \"\"\"Download an individual file to disk with retry logic, calculate its MD5, and extract it.\"\"\"\n",
    "    attempt = 0\n",
    "    while attempt < retries:\n",
    "        try:\n",
    "            response = requests.get(url, stream=True, timeout=(10, 60))  # Connect and read timeout\n",
    "            response.raise_for_status()  # Check for HTTP errors\n",
    "\n",
    "            # Setup progress bar\n",
    "            total_size = int(response.headers.get('content-length', 0))\n",
    "            block_size = 1024  # 1 Kibibyte\n",
    "            progress_bar = tqdm(total=total_size, unit='iB', unit_scale=True, desc=f\"Downloading {filename}\")\n",
    "            \n",
    "            # Initialize MD5 hash calculator\n",
    "            md5_hash = hashlib.md5()\n",
    "\n",
    "            # Write file to disk and update MD5 hash\n",
    "            with open(filename, 'wb') as file:\n",
    "                for data in response.iter_content(block_size):\n",
    "                    progress_bar.update(len(data))\n",
    "                    file.write(data)\n",
    "                    md5_hash.update(data)  # Update MD5 hash with chunk of data\n",
    "            progress_bar.close()\n",
    "\n",
    "            # Display the calculated MD5 hash\n",
    "            file_md5 = md5_hash.hexdigest()\n",
    "            print(f\"MD5 hash of {filename}: {file_md5}\")\n",
    "\n",
    "            # Extract the ZIP file\n",
    "            print(f\"Extracting {filename}...\")\n",
    "            with zipfile.ZipFile(filename, 'r') as zip_ref:\n",
    "                zip_ref.extractall(\"./\")  # Specify root directory\n",
    "            print(f\"{filename} extracted.\")\n",
    "\n",
    "            # Remove the ZIP file after extraction\n",
    "            os.remove(filename)\n",
    "            return  # Exit function after successful download, hash calculation, and extraction\n",
    "        \n",
    "        except (requests.exceptions.RequestException, requests.exceptions.Timeout) as e:\n",
    "            print(f\"Download error: {e}, retrying in {backoff_factor * (2 ** attempt)} seconds...\")\n",
    "            time.sleep(backoff_factor * (2 ** attempt))\n",
    "            attempt += 1\n",
    "\n",
    "    print(f\"Failed to download and extract the file after {retries} attempts.\")\n",
    "\n",
    "# Create directories for ZIP parts and extracted files\n",
    "temp_dir = \"temp_zip_parts\"\n",
    "os.makedirs(temp_dir, exist_ok=True)\n",
    "\n",
    "# Download, extract, and clean up each ZIP file\n",
    "for index, url in enumerate(presigned_urls, start=1):\n",
    "    part_filename = os.path.join(temp_dir, f\"part_{index}.zip\")\n",
    "    download_and_extract_file(url, part_filename)\n",
    "\n",
    "# Final cleanup: Remove the temporary directory (should be empty by now)\n",
    "os.rmdir(temp_dir)\n",
    "\n",
    "print(\"All files downloaded, extracted, and cleaned up.\")\n",
    "\n"
   ]
  }
 ],
 "metadata": {
  "kernelspec": {
   "display_name": "int_organoids_GPU",
   "language": "python",
   "name": "python3"
  },
  "language_info": {
   "codemirror_mode": {
    "name": "ipython",
    "version": 3
   },
   "file_extension": ".py",
   "mimetype": "text/x-python",
   "name": "python",
   "nbconvert_exporter": "python",
   "pygments_lexer": "ipython3",
   "version": "3.9.21"
  }
 },
 "nbformat": 4,
 "nbformat_minor": 2
}
