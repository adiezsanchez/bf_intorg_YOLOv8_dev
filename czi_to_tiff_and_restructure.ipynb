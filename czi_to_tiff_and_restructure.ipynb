{
 "cells": [
  {
   "cell_type": "markdown",
   "metadata": {},
   "source": [
    "<h3>Imports and setup</h3>"
   ]
  },
  {
   "cell_type": "code",
   "execution_count": 36,
   "metadata": {},
   "outputs": [],
   "source": [
    "from pathlib import Path\n",
    "import os\n",
    "import tifffile\n",
    "import czifile\n",
    "from tqdm import tqdm\n",
    "import napari\n",
    "import pandas as pd\n",
    "import numpy as np\n"
   ]
  },
  {
   "cell_type": "markdown",
   "metadata": {},
   "source": [
    "<h3>Image data scraping</h3>"
   ]
  },
  {
   "cell_type": "code",
   "execution_count": 37,
   "metadata": {},
   "outputs": [],
   "source": [
    "# Define the directory containing the raw .czi files and annotations\n",
    "directory_path = Path(\"./apeer_annotations/\")\n",
    "\n",
    "# Initialize an empty list to store the .czi and ome.tiff annotation filepaths\n",
    "czi_images = []\n",
    "annotations = []\n",
    "\n",
    "# Iterate through the files in the directory\n",
    "for file_path in directory_path.glob('*.czi'):\n",
    "    # Append the file to the corresponding group\n",
    "    czi_images.append(str(file_path))\n",
    "\n",
    "# Iterate through the files in the directory\n",
    "for file_path in directory_path.glob('*.tiff'):\n",
    "    # Append the file to the corresponding group\n",
    "    annotations.append(str(file_path))\n"
   ]
  },
  {
   "cell_type": "markdown",
   "metadata": {},
   "source": [
    "<h3>Transforming .czi files into .tiff</h3>"
   ]
  },
  {
   "cell_type": "code",
   "execution_count": 57,
   "metadata": {},
   "outputs": [
    {
     "name": "stdout",
     "output_type": "stream",
     "text": [
      "Output folder created: ./processed_bf_organoids/train_images\n"
     ]
    },
    {
     "name": "stderr",
     "output_type": "stream",
     "text": [
      "100%|██████████| 119/119 [00:01<00:00, 80.41it/s]\n"
     ]
    }
   ],
   "source": [
    "# Define output directory for .tiff converted .czi files  \n",
    "processed_czi_dir = \"./processed_bf_organoids/train_images\"\n",
    "\n",
    "# Check if the output folder exists, create it if not\n",
    "try:\n",
    "    os.makedirs(processed_czi_dir)\n",
    "    print(f\"Output folder created: {processed_czi_dir}\")\n",
    "except FileExistsError:\n",
    "    print(f\"Output folder already exists: {processed_czi_dir}\")\n",
    "    \n",
    "for filepath in tqdm(czi_images):\n",
    "    # Get the filename without the extension\n",
    "    filename = Path(filepath).stem\n",
    "\n",
    "    # Read the .czi file and remove singleton dimensions\n",
    "    img = czifile.imread(filepath)\n",
    "    img = img.squeeze()\n",
    "\n",
    "    # Save the image as a regular .tiff file under processed_bf_organoids/train_images\n",
    "    tifffile.imwrite(os.path.join(processed_czi_dir, f\"{filename}.tiff\"), img)\n"
   ]
  },
  {
   "cell_type": "markdown",
   "metadata": {},
   "source": [
    "<h3>Rename annotations and create a copy under preprocessed_annotations</h3>"
   ]
  },
  {
   "cell_type": "code",
   "execution_count": 58,
   "metadata": {},
   "outputs": [
    {
     "name": "stdout",
     "output_type": "stream",
     "text": [
      "Output folder created: ./preprocessed_annotations\n"
     ]
    },
    {
     "name": "stderr",
     "output_type": "stream",
     "text": [
      "100%|██████████| 119/119 [00:01<00:00, 79.30it/s]\n"
     ]
    }
   ],
   "source": [
    "# Define output directory for renamed annotations\n",
    "processed_annotations = \"./preprocessed_annotations\"\n",
    "\n",
    "# Check if the output folder exists, create it if not\n",
    "try:\n",
    "    os.makedirs(processed_annotations)\n",
    "    print(f\"Output folder created: {processed_annotations}\")\n",
    "except FileExistsError:\n",
    "    print(f\"Output folder already exists: {processed_annotations}\")\n",
    "    \n",
    "for filepath in tqdm(annotations):\n",
    "    # Get the filename without the extension\n",
    "    filename = Path(filepath).stem\n",
    "    # Remove _finalprediction.ome so it matches the original image names\n",
    "    filename = filename.replace(\"_finalprediction.ome\", \"\")\n",
    "    \n",
    "    # Read the ome.tiff file and remove singleton dimensions, ignore ome\n",
    "    img = tifffile.imread(filepath, is_ome=False)\n",
    "    \n",
    "    # Save the image as a regular .tiff file under preprocessed_annotations\n",
    "    tifffile.imwrite(os.path.join(processed_annotations, f\"{filename}.tiff\"), img)"
   ]
  },
  {
   "cell_type": "markdown",
   "metadata": {},
   "source": [
    "<h3>Process dead_organoid annotations into dead_org_train_masks</h3>"
   ]
  },
  {
   "cell_type": "code",
   "execution_count": 81,
   "metadata": {},
   "outputs": [
    {
     "name": "stdout",
     "output_type": "stream",
     "text": [
      "Output folder already exists: ./processed_bf_organoids/train_masks/dead\n"
     ]
    }
   ],
   "source": [
    "# Define output directory for dead_organoid annotations\n",
    "processed_dead_annotations = \"./processed_bf_organoids/train_masks/dead\"\n",
    "\n",
    "# Check if the output folder exists, create it if not\n",
    "try:\n",
    "    os.makedirs(processed_dead_annotations)\n",
    "    print(f\"Output folder created: {processed_dead_annotations}\")\n",
    "except FileExistsError:\n",
    "    print(f\"Output folder already exists: {processed_dead_annotations}\")\n",
    "\n",
    "# Extract the channel dimension containing the dead organoids annotations\n",
    "dead_organoids = img[0,:,:]\n",
    "\n",
    "# Binarize the array\n",
    "dead_organoids = np.where(dead_organoids !=0, 255, 0)\n",
    "\n",
    "# Convert the array to uint8\n",
    "dead_organoids = dead_organoids.astype(np.uint8)\n",
    "\n",
    "# Store the resulting array as a .tiff file under processed_dead_annotations\n",
    "tifffile.imwrite(os.path.join(processed_dead_annotations, f\"MIN_P1A01.tiff\"), dead_organoids)\n",
    "\n",
    "\n",
    "\n"
   ]
  },
  {
   "cell_type": "code",
   "execution_count": 53,
   "metadata": {},
   "outputs": [],
   "source": [
    "# Read measurements_default.csv containing each object_id's class_name\n",
    "df = pd.read_csv(\"./apeer_annotations/measurements_default.csv\")"
   ]
  },
  {
   "cell_type": "code",
   "execution_count": 65,
   "metadata": {},
   "outputs": [
    {
     "data": {
      "text/plain": [
       "<Labels layer 'MIN_P1A01' at 0x1663df17220>"
      ]
     },
     "execution_count": 65,
     "metadata": {},
     "output_type": "execute_result"
    }
   ],
   "source": [
    "img = tifffile.imread(\"./preprocessed_annotations/MIN_P1A01.tiff\", is_ome=False)\n",
    "viewer = napari.Viewer(ndisplay=2)\n",
    "viewer.add_labels(img, name=\"MIN_P1A01\")"
   ]
  }
 ],
 "metadata": {
  "kernelspec": {
   "display_name": "napari-devbio",
   "language": "python",
   "name": "python3"
  },
  "language_info": {
   "codemirror_mode": {
    "name": "ipython",
    "version": 3
   },
   "file_extension": ".py",
   "mimetype": "text/x-python",
   "name": "python",
   "nbconvert_exporter": "python",
   "pygments_lexer": "ipython3",
   "version": "3.9.18"
  }
 },
 "nbformat": 4,
 "nbformat_minor": 2
}
