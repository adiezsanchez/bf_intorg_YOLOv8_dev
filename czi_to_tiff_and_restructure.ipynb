{
 "cells": [
  {
   "cell_type": "code",
   "execution_count": 30,
   "metadata": {},
   "outputs": [],
   "source": [
    "from pathlib import Path\n",
    "import os\n",
    "import tifffile\n",
    "import czifile\n",
    "from tqdm import tqdm\n",
    "import napari\n"
   ]
  },
  {
   "cell_type": "code",
   "execution_count": 28,
   "metadata": {},
   "outputs": [],
   "source": [
    "# Define the directory containing the raw .czi files and annotations\n",
    "directory_path = Path(\"./apeer_annotations/\")\n",
    "\n",
    "# Initialize an empty list to store the .czi and ome.tiff annotation filepaths\n",
    "czi_images = []\n",
    "annotations = []\n",
    "\n",
    "# Iterate through the files in the directory\n",
    "for file_path in directory_path.glob('*.czi'):\n",
    "    # Append the file to the corresponding group\n",
    "    czi_images.append(str(file_path))\n",
    "\n",
    "# Iterate through the files in the directory\n",
    "for file_path in directory_path.glob('*.tiff'):\n",
    "    # Append the file to the corresponding group\n",
    "    annotations.append(str(file_path))\n"
   ]
  },
  {
   "cell_type": "code",
   "execution_count": 31,
   "metadata": {},
   "outputs": [
    {
     "name": "stdout",
     "output_type": "stream",
     "text": [
      "Output folder already exists: ./preprocessed_annotations/images\n"
     ]
    },
    {
     "name": "stderr",
     "output_type": "stream",
     "text": [
      "100%|██████████| 119/119 [00:01<00:00, 78.95it/s]\n"
     ]
    }
   ],
   "source": [
    "# Define output directory for .tiff converted .czi files  \n",
    "processed_czi_dir = \"./preprocessed_annotations/images\"\n",
    "\n",
    "# Check if the output folder exists, create it if not\n",
    "try:\n",
    "    os.makedirs(processed_czi_dir)\n",
    "    print(f\"Output folder created: {processed_czi_dir}\")\n",
    "except FileExistsError:\n",
    "    print(f\"Output folder already exists: {processed_czi_dir}\")\n",
    "    \n",
    "for filepath in tqdm(czi_images):\n",
    "    # Get the filename without the extension\n",
    "    filename = Path(filepath).stem\n",
    "\n",
    "    # Read the .czi file and remove singleton dimensions\n",
    "    img = czifile.imread(filepath)\n",
    "    img = img.squeeze()\n",
    "\n",
    "    # Save the image as a regular .tiff file under preprocessed_annotations/images\n",
    "    tifffile.imwrite(os.path.join(processed_czi_dir, f\"{filename}.tiff\"), img)\n"
   ]
  },
  {
   "cell_type": "code",
   "execution_count": 33,
   "metadata": {},
   "outputs": [
    {
     "name": "stdout",
     "output_type": "stream",
     "text": [
      "Output folder already exists: ./preprocessed_annotations/annotations\n"
     ]
    },
    {
     "name": "stderr",
     "output_type": "stream",
     "text": [
      "100%|██████████| 119/119 [00:01<00:00, 78.39it/s]\n"
     ]
    }
   ],
   "source": [
    "# Define output directory for renamed annotations\n",
    "processed_annotations = \"./preprocessed_annotations/annotations\"\n",
    "\n",
    "# Check if the output folder exists, create it if not\n",
    "try:\n",
    "    os.makedirs(processed_annotations)\n",
    "    print(f\"Output folder created: {processed_annotations}\")\n",
    "except FileExistsError:\n",
    "    print(f\"Output folder already exists: {processed_annotations}\")\n",
    "    \n",
    "for filepath in tqdm(annotations):\n",
    "    # Get the filename without the extension\n",
    "    filename = Path(filepath).stem\n",
    "    # Remove _finalprediction.ome so it matches the original image names\n",
    "    filename = filename.replace(\"_finalprediction.ome\", \"\")\n",
    "    \n",
    "    # Read the ome.tiff file and remove singleton dimensions, ignore ome\n",
    "    img = tifffile.imread(filepath, is_ome=False)\n",
    "    \n",
    "    # Save the image as a regular .tiff file under preprocessed_annotations/images\n",
    "    tifffile.imwrite(os.path.join(processed_annotations, f\"{filename}.tiff\"), img)"
   ]
  },
  {
   "cell_type": "code",
   "execution_count": 35,
   "metadata": {},
   "outputs": [
    {
     "data": {
      "text/plain": [
       "<Labels layer 'Biofilm_layer_MIN_stack_D06' at 0x1661c28cfa0>"
      ]
     },
     "execution_count": 35,
     "metadata": {},
     "output_type": "execute_result"
    }
   ],
   "source": [
    "# Initialize Napari viewer instance\n",
    "label = tifffile.imread(\"./preprocessed_annotations/annotations/MIN_P1A01.tiff\", is_ome = False)\n",
    "\n",
    "viewer = napari.Viewer(ndisplay=2)\n",
    "viewer.add_labels(label, name=f\"Biofilm_layer_{filename}\")\n"
   ]
  }
 ],
 "metadata": {
  "kernelspec": {
   "display_name": "napari-devbio",
   "language": "python",
   "name": "python3"
  },
  "language_info": {
   "codemirror_mode": {
    "name": "ipython",
    "version": 3
   },
   "file_extension": ".py",
   "mimetype": "text/x-python",
   "name": "python",
   "nbconvert_exporter": "python",
   "pygments_lexer": "ipython3",
   "version": "3.9.18"
  }
 },
 "nbformat": 4,
 "nbformat_minor": 2
}
